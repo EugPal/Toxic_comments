{
 "cells": [
  {
   "cell_type": "markdown",
   "metadata": {
    "toc": true
   },
   "source": [
    "<h1>Содержание<span class=\"tocSkip\"></span></h1>\n",
    "<div class=\"toc\"><ul class=\"toc-item\"><li><span><a href=\"#Подготовка\" data-toc-modified-id=\"Подготовка-1\"><span class=\"toc-item-num\">1&nbsp;&nbsp;</span>Подготовка</a></span><ul class=\"toc-item\"><li><span><a href=\"#Лемматизация,-очистка-от-лишних-символов-и-пробелов\" data-toc-modified-id=\"Лемматизация,-очистка-от-лишних-символов-и-пробелов-1.1\"><span class=\"toc-item-num\">1.1&nbsp;&nbsp;</span>Лемматизация, очистка от лишних символов и пробелов</a></span></li></ul></li><li><span><a href=\"#Обучение\" data-toc-modified-id=\"Обучение-2\"><span class=\"toc-item-num\">2&nbsp;&nbsp;</span>Обучение</a></span><ul class=\"toc-item\"><li><span><a href=\"#Создание-выборок\" data-toc-modified-id=\"Создание-выборок-2.1\"><span class=\"toc-item-num\">2.1&nbsp;&nbsp;</span>Создание выборок</a></span></li><li><span><a href=\"#Создание-корпусов-слов-и-установка-стоп-слов\" data-toc-modified-id=\"Создание-корпусов-слов-и-установка-стоп-слов-2.2\"><span class=\"toc-item-num\">2.2&nbsp;&nbsp;</span>Создание корпусов слов и установка стоп-слов</a></span></li><li><span><a href=\"#Векторизация\" data-toc-modified-id=\"Векторизация-2.3\"><span class=\"toc-item-num\">2.3&nbsp;&nbsp;</span>Векторизация</a></span><ul class=\"toc-item\"><li><span><a href=\"#LogisticRegression\" data-toc-modified-id=\"LogisticRegression-2.3.1\"><span class=\"toc-item-num\">2.3.1&nbsp;&nbsp;</span>LogisticRegression</a></span></li><li><span><a href=\"#LGBM\" data-toc-modified-id=\"LGBM-2.3.2\"><span class=\"toc-item-num\">2.3.2&nbsp;&nbsp;</span>LGBM</a></span></li><li><span><a href=\"#CatBoost\" data-toc-modified-id=\"CatBoost-2.3.3\"><span class=\"toc-item-num\">2.3.3&nbsp;&nbsp;</span>CatBoost</a></span></li></ul></li><li><span><a href=\"#TF-IDF\" data-toc-modified-id=\"TF-IDF-2.4\"><span class=\"toc-item-num\">2.4&nbsp;&nbsp;</span>TF-IDF</a></span><ul class=\"toc-item\"><li><span><a href=\"#LogisticRegression\" data-toc-modified-id=\"LogisticRegression-2.4.1\"><span class=\"toc-item-num\">2.4.1&nbsp;&nbsp;</span>LogisticRegression</a></span></li><li><span><a href=\"#LGBM\" data-toc-modified-id=\"LGBM-2.4.2\"><span class=\"toc-item-num\">2.4.2&nbsp;&nbsp;</span>LGBM</a></span></li><li><span><a href=\"#CatBoost\" data-toc-modified-id=\"CatBoost-2.4.3\"><span class=\"toc-item-num\">2.4.3&nbsp;&nbsp;</span>CatBoost</a></span></li></ul></li><li><span><a href=\"#Тестирование\" data-toc-modified-id=\"Тестирование-2.5\"><span class=\"toc-item-num\">2.5&nbsp;&nbsp;</span>Тестирование</a></span></li></ul></li><li><span><a href=\"#Выводы\" data-toc-modified-id=\"Выводы-3\"><span class=\"toc-item-num\">3&nbsp;&nbsp;</span>Выводы</a></span></li><li><span><a href=\"#Чек-лист-проверки\" data-toc-modified-id=\"Чек-лист-проверки-4\"><span class=\"toc-item-num\">4&nbsp;&nbsp;</span>Чек-лист проверки</a></span></li></ul></div>"
   ]
  },
  {
   "cell_type": "markdown",
   "metadata": {},
   "source": [
    "# Проект для «Викишоп»"
   ]
  },
  {
   "cell_type": "markdown",
   "metadata": {},
   "source": [
    "Интернет-магазин «Викишоп» запускает новый сервис. Теперь пользователи могут редактировать и дополнять описания товаров, как в вики-сообществах. То есть клиенты предлагают свои правки и комментируют изменения других. Магазину нужен инструмент, который будет искать токсичные комментарии и отправлять их на модерацию. \n",
    "\n",
    "Обучите модель классифицировать комментарии на позитивные и негативные. В вашем распоряжении набор данных с разметкой о токсичности правок.\n",
    "\n",
    "Постройте модель со значением метрики качества *F1* не меньше 0.75. \n",
    "\n",
    "**Инструкция по выполнению проекта**\n",
    "\n",
    "1. Загрузите и подготовьте данные.\n",
    "2. Обучите разные модели. \n",
    "3. Сделайте выводы.\n",
    "\n",
    "Для выполнения проекта применять *BERT* необязательно, но вы можете попробовать.\n",
    "\n",
    "**Описание данных**\n",
    "\n",
    "Данные находятся в файле `toxic_comments.csv`. Столбец *text* в нём содержит текст комментария, а *toxic* — целевой признак."
   ]
  },
  {
   "cell_type": "markdown",
   "metadata": {},
   "source": [
    "## Подготовка"
   ]
  },
  {
   "cell_type": "code",
   "execution_count": 1,
   "metadata": {},
   "outputs": [],
   "source": [
    "import math\n",
    "import numpy as np\n",
    "import pandas as pd\n",
    "import re\n",
    "from sklearn.experimental import enable_halving_search_cv\n",
    "from sklearn.model_selection import HalvingGridSearchCV\n",
    "from sklearn.feature_extraction.text import CountVectorizer, TfidfVectorizer\n",
    "from nltk.corpus import stopwords as nltk_stopwords\n",
    "from sklearn.model_selection import train_test_split, GridSearchCV\n",
    "from sklearn.linear_model import LogisticRegression\n",
    "from xgboost import XGBClassifier\n",
    "from sklearn.metrics import f1_score,classification_report\n",
    "from tqdm import tqdm\n",
    "import lightgbm as lgb\n",
    "import transformers\n",
    "from tqdm import notebook\n",
    "from catboost import CatBoostClassifier\n",
    "from xgboost import XGBRegressor"
   ]
  },
  {
   "cell_type": "code",
   "execution_count": 2,
   "metadata": {},
   "outputs": [
    {
     "name": "stderr",
     "output_type": "stream",
     "text": [
      "[nltk_data] Downloading package averaged_perceptron_tagger to\n",
      "[nltk_data]     /home/jovyan/nltk_data...\n",
      "[nltk_data]   Unzipping taggers/averaged_perceptron_tagger.zip.\n",
      "[nltk_data] Downloading package wordnet to /home/jovyan/nltk_data...\n",
      "[nltk_data]   Package wordnet is already up-to-date!\n",
      "[nltk_data] Downloading package omw-1.4 to /home/jovyan/nltk_data...\n"
     ]
    }
   ],
   "source": [
    "import nltk\n",
    "nltk.download('averaged_perceptron_tagger')\n",
    "nltk.download('wordnet')\n",
    "nltk.download('omw-1.4')\n",
    "from nltk.stem import WordNetLemmatizer\n",
    "from nltk.corpus import wordnet"
   ]
  },
  {
   "cell_type": "code",
   "execution_count": 3,
   "metadata": {},
   "outputs": [],
   "source": [
    "import warnings\n",
    "warnings.filterwarnings(\"ignore\")"
   ]
  },
  {
   "cell_type": "code",
   "execution_count": 4,
   "metadata": {},
   "outputs": [
    {
     "name": "stderr",
     "output_type": "stream",
     "text": [
      "[nltk_data] Downloading package stopwords to /home/jovyan/nltk_data...\n",
      "[nltk_data]   Package stopwords is already up-to-date!\n",
      "[nltk_data] Downloading package punkt to /home/jovyan/nltk_data...\n",
      "[nltk_data]   Package punkt is already up-to-date!\n"
     ]
    },
    {
     "data": {
      "text/plain": [
       "True"
      ]
     },
     "execution_count": 4,
     "metadata": {},
     "output_type": "execute_result"
    }
   ],
   "source": [
    "import nltk\n",
    "nltk.download('stopwords')\n",
    "nltk.download('punkt')"
   ]
  },
  {
   "cell_type": "code",
   "execution_count": 5,
   "metadata": {},
   "outputs": [],
   "source": [
    "try:\n",
    "    data = pd.read_csv('/datasets/toxic_comments.csv')\n",
    "except:\n",
    "    data = pd.read_csv('https://code.s3.yandex.net/datasets/toxic_comments.csv')"
   ]
  },
  {
   "cell_type": "code",
   "execution_count": 6,
   "metadata": {},
   "outputs": [
    {
     "name": "stdout",
     "output_type": "stream",
     "text": [
      "<class 'pandas.core.frame.DataFrame'>\n",
      "RangeIndex: 159292 entries, 0 to 159291\n",
      "Data columns (total 3 columns):\n",
      " #   Column      Non-Null Count   Dtype \n",
      "---  ------      --------------   ----- \n",
      " 0   Unnamed: 0  159292 non-null  int64 \n",
      " 1   text        159292 non-null  object\n",
      " 2   toxic       159292 non-null  int64 \n",
      "dtypes: int64(2), object(1)\n",
      "memory usage: 3.6+ MB\n"
     ]
    }
   ],
   "source": [
    "data.info()"
   ]
  },
  {
   "cell_type": "code",
   "execution_count": 7,
   "metadata": {},
   "outputs": [
    {
     "data": {
      "text/html": [
       "<div>\n",
       "<style scoped>\n",
       "    .dataframe tbody tr th:only-of-type {\n",
       "        vertical-align: middle;\n",
       "    }\n",
       "\n",
       "    .dataframe tbody tr th {\n",
       "        vertical-align: top;\n",
       "    }\n",
       "\n",
       "    .dataframe thead th {\n",
       "        text-align: right;\n",
       "    }\n",
       "</style>\n",
       "<table border=\"1\" class=\"dataframe\">\n",
       "  <thead>\n",
       "    <tr style=\"text-align: right;\">\n",
       "      <th></th>\n",
       "      <th>Unnamed: 0</th>\n",
       "      <th>toxic</th>\n",
       "    </tr>\n",
       "  </thead>\n",
       "  <tbody>\n",
       "    <tr>\n",
       "      <th>count</th>\n",
       "      <td>159292.000000</td>\n",
       "      <td>159292.000000</td>\n",
       "    </tr>\n",
       "    <tr>\n",
       "      <th>mean</th>\n",
       "      <td>79725.697242</td>\n",
       "      <td>0.101612</td>\n",
       "    </tr>\n",
       "    <tr>\n",
       "      <th>std</th>\n",
       "      <td>46028.837471</td>\n",
       "      <td>0.302139</td>\n",
       "    </tr>\n",
       "    <tr>\n",
       "      <th>min</th>\n",
       "      <td>0.000000</td>\n",
       "      <td>0.000000</td>\n",
       "    </tr>\n",
       "    <tr>\n",
       "      <th>25%</th>\n",
       "      <td>39872.750000</td>\n",
       "      <td>0.000000</td>\n",
       "    </tr>\n",
       "    <tr>\n",
       "      <th>50%</th>\n",
       "      <td>79721.500000</td>\n",
       "      <td>0.000000</td>\n",
       "    </tr>\n",
       "    <tr>\n",
       "      <th>75%</th>\n",
       "      <td>119573.250000</td>\n",
       "      <td>0.000000</td>\n",
       "    </tr>\n",
       "    <tr>\n",
       "      <th>max</th>\n",
       "      <td>159450.000000</td>\n",
       "      <td>1.000000</td>\n",
       "    </tr>\n",
       "  </tbody>\n",
       "</table>\n",
       "</div>"
      ],
      "text/plain": [
       "          Unnamed: 0          toxic\n",
       "count  159292.000000  159292.000000\n",
       "mean    79725.697242       0.101612\n",
       "std     46028.837471       0.302139\n",
       "min         0.000000       0.000000\n",
       "25%     39872.750000       0.000000\n",
       "50%     79721.500000       0.000000\n",
       "75%    119573.250000       0.000000\n",
       "max    159450.000000       1.000000"
      ]
     },
     "execution_count": 7,
     "metadata": {},
     "output_type": "execute_result"
    }
   ],
   "source": [
    "data.describe()"
   ]
  },
  {
   "cell_type": "code",
   "execution_count": 8,
   "metadata": {},
   "outputs": [
    {
     "data": {
      "text/html": [
       "<div>\n",
       "<style scoped>\n",
       "    .dataframe tbody tr th:only-of-type {\n",
       "        vertical-align: middle;\n",
       "    }\n",
       "\n",
       "    .dataframe tbody tr th {\n",
       "        vertical-align: top;\n",
       "    }\n",
       "\n",
       "    .dataframe thead th {\n",
       "        text-align: right;\n",
       "    }\n",
       "</style>\n",
       "<table border=\"1\" class=\"dataframe\">\n",
       "  <thead>\n",
       "    <tr style=\"text-align: right;\">\n",
       "      <th></th>\n",
       "      <th>Unnamed: 0</th>\n",
       "      <th>text</th>\n",
       "      <th>toxic</th>\n",
       "    </tr>\n",
       "  </thead>\n",
       "  <tbody>\n",
       "    <tr>\n",
       "      <th>0</th>\n",
       "      <td>0</td>\n",
       "      <td>Explanation\\nWhy the edits made under my usern...</td>\n",
       "      <td>0</td>\n",
       "    </tr>\n",
       "    <tr>\n",
       "      <th>1</th>\n",
       "      <td>1</td>\n",
       "      <td>D'aww! He matches this background colour I'm s...</td>\n",
       "      <td>0</td>\n",
       "    </tr>\n",
       "    <tr>\n",
       "      <th>2</th>\n",
       "      <td>2</td>\n",
       "      <td>Hey man, I'm really not trying to edit war. It...</td>\n",
       "      <td>0</td>\n",
       "    </tr>\n",
       "    <tr>\n",
       "      <th>3</th>\n",
       "      <td>3</td>\n",
       "      <td>\"\\nMore\\nI can't make any real suggestions on ...</td>\n",
       "      <td>0</td>\n",
       "    </tr>\n",
       "    <tr>\n",
       "      <th>4</th>\n",
       "      <td>4</td>\n",
       "      <td>You, sir, are my hero. Any chance you remember...</td>\n",
       "      <td>0</td>\n",
       "    </tr>\n",
       "  </tbody>\n",
       "</table>\n",
       "</div>"
      ],
      "text/plain": [
       "   Unnamed: 0                                               text  toxic\n",
       "0           0  Explanation\\nWhy the edits made under my usern...      0\n",
       "1           1  D'aww! He matches this background colour I'm s...      0\n",
       "2           2  Hey man, I'm really not trying to edit war. It...      0\n",
       "3           3  \"\\nMore\\nI can't make any real suggestions on ...      0\n",
       "4           4  You, sir, are my hero. Any chance you remember...      0"
      ]
     },
     "execution_count": 8,
     "metadata": {},
     "output_type": "execute_result"
    }
   ],
   "source": [
    "data.head()"
   ]
  },
  {
   "cell_type": "markdown",
   "metadata": {},
   "source": [
    "### Лемматизация, очистка от лишних символов и пробелов"
   ]
  },
  {
   "cell_type": "code",
   "execution_count": 9,
   "metadata": {},
   "outputs": [],
   "source": [
    "def preprocessing(text):\n",
    "    tokenized = nltk.word_tokenize(text)\n",
    "    joined = ' '.join(tokenized)\n",
    "    texted = re.sub(r'[^a-zA-Z]', ' ', joined)\n",
    "    resulted = ' '.join(texted.split())\n",
    "    return resulted"
   ]
  },
  {
   "cell_type": "code",
   "execution_count": 10,
   "metadata": {},
   "outputs": [],
   "source": [
    "data['lemm_text'] = data['text'].apply(preprocessing)"
   ]
  },
  {
   "cell_type": "code",
   "execution_count": 11,
   "metadata": {},
   "outputs": [],
   "source": [
    "lemmatizer = WordNetLemmatizer()\n",
    "\n",
    "def nltk_pos_tagger(nltk_tag):\n",
    "    if nltk_tag.startswith('J'):\n",
    "        return wordnet.ADJ\n",
    "    elif nltk_tag.startswith('V'):\n",
    "        return wordnet.VERB\n",
    "    elif nltk_tag.startswith('N'):\n",
    "        return wordnet.NOUN\n",
    "    elif nltk_tag.startswith('R'):\n",
    "        return wordnet.ADV\n",
    "    else:          \n",
    "        return None\n",
    "\n",
    "def lemmatize_sentence(sentence):\n",
    "\n",
    "    nltk_tagged = nltk.pos_tag(nltk.word_tokenize(sentence))  \n",
    "    wordnet_tagged = map(lambda x: (x[0], nltk_pos_tagger(x[1])), nltk_tagged)\n",
    "    lemmatized_sentence = []\n",
    "    \n",
    "    for word, tag in wordnet_tagged:\n",
    "        if tag is None:\n",
    "            lemmatized_sentence.append(word)\n",
    "        else:        \n",
    "            lemmatized_sentence.append(lemmatizer.lemmatize(word, tag))\n",
    "    return \" \".join(lemmatized_sentence)"
   ]
  },
  {
   "cell_type": "code",
   "execution_count": 12,
   "metadata": {},
   "outputs": [
    {
     "name": "stderr",
     "output_type": "stream",
     "text": [
      "100%|██████████| 159292/159292 [09:39<00:00, 274.69it/s]\n"
     ]
    }
   ],
   "source": [
    "tqdm.pandas()\n",
    "data['lemm_text'] = data['text'].progress_apply(lemmatize_sentence) "
   ]
  },
  {
   "cell_type": "code",
   "execution_count": 13,
   "metadata": {},
   "outputs": [
    {
     "data": {
      "text/html": [
       "<div>\n",
       "<style scoped>\n",
       "    .dataframe tbody tr th:only-of-type {\n",
       "        vertical-align: middle;\n",
       "    }\n",
       "\n",
       "    .dataframe tbody tr th {\n",
       "        vertical-align: top;\n",
       "    }\n",
       "\n",
       "    .dataframe thead th {\n",
       "        text-align: right;\n",
       "    }\n",
       "</style>\n",
       "<table border=\"1\" class=\"dataframe\">\n",
       "  <thead>\n",
       "    <tr style=\"text-align: right;\">\n",
       "      <th></th>\n",
       "      <th>Unnamed: 0</th>\n",
       "      <th>text</th>\n",
       "      <th>toxic</th>\n",
       "      <th>lemm_text</th>\n",
       "    </tr>\n",
       "  </thead>\n",
       "  <tbody>\n",
       "    <tr>\n",
       "      <th>0</th>\n",
       "      <td>0</td>\n",
       "      <td>Explanation\\nWhy the edits made under my usern...</td>\n",
       "      <td>0</td>\n",
       "      <td>Explanation Why the edits make under my userna...</td>\n",
       "    </tr>\n",
       "    <tr>\n",
       "      <th>1</th>\n",
       "      <td>1</td>\n",
       "      <td>D'aww! He matches this background colour I'm s...</td>\n",
       "      <td>0</td>\n",
       "      <td>D'aww ! He match this background colour I 'm s...</td>\n",
       "    </tr>\n",
       "    <tr>\n",
       "      <th>2</th>\n",
       "      <td>2</td>\n",
       "      <td>Hey man, I'm really not trying to edit war. It...</td>\n",
       "      <td>0</td>\n",
       "      <td>Hey man , I 'm really not try to edit war . It...</td>\n",
       "    </tr>\n",
       "    <tr>\n",
       "      <th>3</th>\n",
       "      <td>3</td>\n",
       "      <td>\"\\nMore\\nI can't make any real suggestions on ...</td>\n",
       "      <td>0</td>\n",
       "      <td>`` More I ca n't make any real suggestion on i...</td>\n",
       "    </tr>\n",
       "    <tr>\n",
       "      <th>4</th>\n",
       "      <td>4</td>\n",
       "      <td>You, sir, are my hero. Any chance you remember...</td>\n",
       "      <td>0</td>\n",
       "      <td>You , sir , be my hero . Any chance you rememb...</td>\n",
       "    </tr>\n",
       "  </tbody>\n",
       "</table>\n",
       "</div>"
      ],
      "text/plain": [
       "   Unnamed: 0                                               text  toxic  \\\n",
       "0           0  Explanation\\nWhy the edits made under my usern...      0   \n",
       "1           1  D'aww! He matches this background colour I'm s...      0   \n",
       "2           2  Hey man, I'm really not trying to edit war. It...      0   \n",
       "3           3  \"\\nMore\\nI can't make any real suggestions on ...      0   \n",
       "4           4  You, sir, are my hero. Any chance you remember...      0   \n",
       "\n",
       "                                           lemm_text  \n",
       "0  Explanation Why the edits make under my userna...  \n",
       "1  D'aww ! He match this background colour I 'm s...  \n",
       "2  Hey man , I 'm really not try to edit war . It...  \n",
       "3  `` More I ca n't make any real suggestion on i...  \n",
       "4  You , sir , be my hero . Any chance you rememb...  "
      ]
     },
     "execution_count": 13,
     "metadata": {},
     "output_type": "execute_result"
    }
   ],
   "source": [
    "data.head()"
   ]
  },
  {
   "cell_type": "markdown",
   "metadata": {},
   "source": [
    "## Обучение"
   ]
  },
  {
   "cell_type": "markdown",
   "metadata": {},
   "source": [
    "### Создание выборок"
   ]
  },
  {
   "cell_type": "code",
   "execution_count": 14,
   "metadata": {},
   "outputs": [],
   "source": [
    "features = data['lemm_text']\n",
    "target = data['toxic']\n",
    "features_train,features_test,target_train,target_test=train_test_split(features,target, test_size=0.2,random_state=12345)"
   ]
  },
  {
   "cell_type": "markdown",
   "metadata": {},
   "source": [
    "### Создание корпусов слов и установка стоп-слов"
   ]
  },
  {
   "cell_type": "code",
   "execution_count": 15,
   "metadata": {},
   "outputs": [
    {
     "data": {
      "text/plain": [
       "array([\"Bushranger you 're a GRASS with no sense of humour . Seen the South Park episode Poor and Stupid ? That 's what I be refer to , a comment obviously lose on you . But you 've show you ca n't fight your own battle and have to run cry to mummy - boo-hoo.90.204.13.4\",\n",
       "       \"`` Need administrative help I have be block , iniquitously . Read the above request . I try to explain everything there . Hegemonic use of administrative privilege ought to not be overlook . Ask Administrator if I be harass him to such an extent where I need to be block from edit , that too for 48 hr . For goodness ' sake . What happen to do n't bite the newcomer ? Please talk to Bwilkins . See the talk page of he have a knack of be unreasonable with aplomb . here ``\",\n",
       "       \"I 'd also like to point out that he have use a third-person plural pronoun and possessive pronoun to refer to one person ( me ) and one person 's ( my ) possession .\",\n",
       "       ...,\n",
       "       \"`` Agreed . We really should try to stick to the subject of the article at hand . And look through the Jeremy Clarkson article I see there really be n't a lot about his penchant for speed . It 's mention , but just briefly , alongside his clean driving record . However in search via Google , I find this article , http : //driving.timesonline.co.uk/article/0 , ,12529-1890873_2,00.html This to me seem rather striking , to have somebody talk so openly about speed . Maybe we could change the article around to be , In spite of his penchant for speed , Clarkson hold a clean driving licence . None the less , he be not especially reluctant to discuss the subject of speed . In a November 2005 article in `` '' The Sunday Times '' '' , Mr. Clarkson write , while discuss the Bugatti Veyron , '' '' On a recent drive across Europe I desperately want to reach the top speed but I run out of road when the needle hit 240mph '' '' , and later , in the same article , `` '' From behind the wheel of a Veyron , France be the size of a small coconut . I can not tell you how fast I cross it the other day . Because you simply wouldn ’ t believe me '' '' . Could we write that ? These two quote be rather remarkable , in my opinion , and worth mentioning in the article . They demonstrate his honest and frank manner of discuss his travel across Europe . And we could just leave it to the reader to decide if he be talk about go 240mph on public road , or whatever . I realize you may feel differently about Mr. Clarkson than I do , but none the less , these two quote do clarify his penchant for speed , and be worth mentioning , alongside his clean driving record , I would say. ``\",\n",
       "       '`` Umm killer Do you not like that he copy your whole userpage ? I put it up for deletion but it be keep with one vote . Cheers , tLover ( ) ``',\n",
       "       'Bradford City I be remove unreferanced content .'], dtype=object)"
      ]
     },
     "metadata": {},
     "output_type": "display_data"
    },
    {
     "data": {
      "text/plain": [
       "179"
      ]
     },
     "metadata": {},
     "output_type": "display_data"
    }
   ],
   "source": [
    "features_train_corpus = features_train.values\n",
    "features_test_corpus = features_test.values\n",
    "\n",
    "display(features_train_corpus)\n",
    "\n",
    "stopwords = set(nltk_stopwords.words('english'))\n",
    "display(len(stopwords))"
   ]
  },
  {
   "cell_type": "markdown",
   "metadata": {},
   "source": [
    "### Векторизация"
   ]
  },
  {
   "cell_type": "code",
   "execution_count": 16,
   "metadata": {},
   "outputs": [
    {
     "data": {
      "text/plain": [
       "(127433, 158266)"
      ]
     },
     "metadata": {},
     "output_type": "display_data"
    }
   ],
   "source": [
    "models=[]\n",
    "results=[]\n",
    "\n",
    "count_vect = CountVectorizer(stop_words=stopwords, dtype=np.float32)\n",
    "\n",
    "bow_features_train = count_vect.fit_transform(features_train_corpus)\n",
    "bow_features_test = count_vect.transform(features_test_corpus)\n",
    "\n",
    "display(bow_features_train.shape)"
   ]
  },
  {
   "cell_type": "markdown",
   "metadata": {},
   "source": [
    "#### LogisticRegression"
   ]
  },
  {
   "cell_type": "code",
   "execution_count": 30,
   "metadata": {},
   "outputs": [],
   "source": [
    "def logreg(features_train, target_train): #, features_test, target_test):\n",
    "\n",
    "    logreg = LogisticRegression(random_state=123)\n",
    "    \n",
    "    param_grid = {'C': [0.1,1],\n",
    "                  'solver': ['lbfgs','liblinear'],\n",
    "                  'penalty': ['l2']}\n",
    "    \n",
    "    grid_search_logreg = GridSearchCV(logreg, param_grid, cv=5, n_jobs=-1, scoring='f1')\n",
    "    \n",
    "    grid_search_logreg.fit(features_train, target_train)\n",
    "    \n",
    "    print(grid_search_logreg.best_params_)\n",
    "#    print(classification_report(target_test, grid_search_logreg.predict(features_test)))\n",
    "\n",
    "    print(grid_search_logreg.best_score_)    \n",
    "    print(grid_search_logreg.best_estimator_)\n",
    "    \n",
    "    return grid_search_logreg.best_estimator_"
   ]
  },
  {
   "cell_type": "code",
   "execution_count": 18,
   "metadata": {},
   "outputs": [
    {
     "name": "stdout",
     "output_type": "stream",
     "text": [
      "{'C': 1, 'penalty': 'l2', 'solver': 'lbfgs'}\n",
      "0.7520322280505028\n",
      "LogisticRegression(C=1, random_state=123)\n"
     ]
    }
   ],
   "source": [
    "logreg(bow_features_train,target_train) #, bow_features_test, target_test)"
   ]
  },
  {
   "cell_type": "markdown",
   "metadata": {},
   "source": [
    "#### LGBM"
   ]
  },
  {
   "cell_type": "code",
   "execution_count": 19,
   "metadata": {},
   "outputs": [],
   "source": [
    "def lgbm(features_train, target_train): #, features_test, target_test):\n",
    "    \n",
    "    lgbm_model = lgb.LGBMClassifier(random_state=123)\n",
    "    \n",
    "    param_grid = {'max_depth': [5,10],\n",
    "                  'n_estimators': [5,10],\n",
    "                  'learning_rate': [5,10]\n",
    "                 }\n",
    "    \n",
    "    grid_search_lgbm = GridSearchCV(lgbm_model, param_grid, cv=5, n_jobs=-1, scoring='f1')\n",
    "    \n",
    "    grid_search_lgbm.fit(features_train, target_train)\n",
    "    \n",
    "    print(grid_search_lgbm.best_params_)\n",
    "#    print(classification_report(target_test, grid_search_lgbm.predict(features_test)))\n",
    "    print(grid_search_lgbm.best_score_)    \n",
    "    print(grid_search_lgbm.best_estimator_)"
   ]
  },
  {
   "cell_type": "code",
   "execution_count": 20,
   "metadata": {},
   "outputs": [
    {
     "name": "stdout",
     "output_type": "stream",
     "text": [
      "{'learning_rate': 10, 'max_depth': 5, 'n_estimators': 5}\n",
      "0.18318689353718637\n",
      "LGBMClassifier(learning_rate=10, max_depth=5, n_estimators=5, random_state=123)\n"
     ]
    }
   ],
   "source": [
    "lgbm(bow_features_train,target_train) #, bow_features_test, target_test)"
   ]
  },
  {
   "cell_type": "markdown",
   "metadata": {},
   "source": [
    "#### CatBoost"
   ]
  },
  {
   "cell_type": "code",
   "execution_count": 21,
   "metadata": {},
   "outputs": [],
   "source": [
    "def catboost(features_train, target_train): #, features_test, target_test):\n",
    "    \n",
    "    cat_model = CatBoostClassifier(random_state=123)\n",
    "    \n",
    "    param_grid = {'depth': [2,4],\n",
    "                  'iterations': [5],\n",
    "                  'learning_rate': [0.1,0.5]}\n",
    "    \n",
    "    grid_search_catboost= GridSearchCV(cat_model, param_grid, cv=5, n_jobs=-1, scoring='f1')\n",
    "    \n",
    "    grid_search_catboost.fit(features_train, target_train)\n",
    "    \n",
    "    print(grid_search_catboost.best_params_)\n",
    "#    print(classification_report(target_test, grid_search_cat.predict(features_test)))\n",
    "    print(grid_search_catboost.best_score_)   \n",
    "    print(grid_search_catboost.best_estimator_)"
   ]
  },
  {
   "cell_type": "code",
   "execution_count": 22,
   "metadata": {},
   "outputs": [
    {
     "name": "stdout",
     "output_type": "stream",
     "text": [
      "0:\tlearn: 0.5990722\ttotal: 540ms\tremaining: 2.16s\n",
      "1:\tlearn: 0.5240639\ttotal: 1.04s\tremaining: 1.56s\n",
      "2:\tlearn: 0.4672801\ttotal: 1.53s\tremaining: 1.02s\n",
      "3:\tlearn: 0.4238993\ttotal: 2.03s\tremaining: 508ms\n",
      "4:\tlearn: 0.3896184\ttotal: 2.52s\tremaining: 0us\n",
      "0:\tlearn: 0.5960810\ttotal: 538ms\tremaining: 2.15s\n",
      "1:\tlearn: 0.5227291\ttotal: 1.03s\tremaining: 1.55s\n",
      "2:\tlearn: 0.4653821\ttotal: 1.51s\tremaining: 1.01s\n",
      "3:\tlearn: 0.4216683\ttotal: 2.02s\tremaining: 504ms\n",
      "4:\tlearn: 0.3881733\ttotal: 2.5s\tremaining: 0us\n",
      "0:\tlearn: 0.5965683\ttotal: 481ms\tremaining: 1.92s\n",
      "1:\tlearn: 0.5220454\ttotal: 975ms\tremaining: 1.46s\n",
      "2:\tlearn: 0.4646526\ttotal: 1.46s\tremaining: 975ms\n",
      "3:\tlearn: 0.4211209\ttotal: 1.95s\tremaining: 488ms\n",
      "4:\tlearn: 0.3870548\ttotal: 2.44s\tremaining: 0us\n",
      "0:\tlearn: 0.5991316\ttotal: 487ms\tremaining: 1.95s\n",
      "1:\tlearn: 0.5247759\ttotal: 1.02s\tremaining: 1.53s\n",
      "2:\tlearn: 0.4668881\ttotal: 1.52s\tremaining: 1.01s\n",
      "3:\tlearn: 0.4226036\ttotal: 2.03s\tremaining: 507ms\n",
      "4:\tlearn: 0.3886750\ttotal: 2.54s\tremaining: 0us\n",
      "0:\tlearn: 0.5992603\ttotal: 495ms\tremaining: 1.98s\n",
      "1:\tlearn: 0.5242323\ttotal: 1.02s\tremaining: 1.53s\n",
      "2:\tlearn: 0.4670097\ttotal: 1.51s\tremaining: 1s\n",
      "3:\tlearn: 0.4232884\ttotal: 1.99s\tremaining: 498ms\n",
      "4:\tlearn: 0.3891464\ttotal: 2.48s\tremaining: 0us\n",
      "0:\tlearn: 0.3603201\ttotal: 509ms\tremaining: 2.04s\n",
      "1:\tlearn: 0.2912019\ttotal: 996ms\tremaining: 1.49s\n",
      "2:\tlearn: 0.2668890\ttotal: 1.49s\tremaining: 993ms\n",
      "3:\tlearn: 0.2547158\ttotal: 1.98s\tremaining: 496ms\n",
      "4:\tlearn: 0.2464720\ttotal: 2.48s\tremaining: 0us\n",
      "0:\tlearn: 0.3514419\ttotal: 499ms\tremaining: 1.99s\n",
      "1:\tlearn: 0.2866676\ttotal: 992ms\tremaining: 1.49s\n",
      "2:\tlearn: 0.2643966\ttotal: 1.49s\tremaining: 992ms\n",
      "3:\tlearn: 0.2516243\ttotal: 1.97s\tremaining: 494ms\n",
      "4:\tlearn: 0.2443444\ttotal: 2.47s\tremaining: 0us\n",
      "0:\tlearn: 0.3528966\ttotal: 492ms\tremaining: 1.97s\n",
      "1:\tlearn: 0.2834106\ttotal: 1.04s\tremaining: 1.57s\n",
      "2:\tlearn: 0.2633474\ttotal: 1.54s\tremaining: 1.02s\n",
      "3:\tlearn: 0.2523072\ttotal: 2.04s\tremaining: 510ms\n",
      "4:\tlearn: 0.2455931\ttotal: 2.53s\tremaining: 0us\n",
      "0:\tlearn: 0.3604217\ttotal: 478ms\tremaining: 1.91s\n",
      "1:\tlearn: 0.2900851\ttotal: 978ms\tremaining: 1.47s\n",
      "2:\tlearn: 0.2674157\ttotal: 1.46s\tremaining: 975ms\n",
      "3:\tlearn: 0.2563359\ttotal: 1.97s\tremaining: 492ms\n",
      "4:\tlearn: 0.2474539\ttotal: 2.46s\tremaining: 0us\n",
      "0:\tlearn: 0.3611061\ttotal: 511ms\tremaining: 2.04s\n",
      "1:\tlearn: 0.2896601\ttotal: 1s\tremaining: 1.51s\n",
      "2:\tlearn: 0.2665948\ttotal: 1.52s\tremaining: 1.01s\n",
      "3:\tlearn: 0.2556954\ttotal: 2.01s\tremaining: 502ms\n",
      "4:\tlearn: 0.2470895\ttotal: 2.54s\tremaining: 0us\n",
      "0:\tlearn: 0.5970210\ttotal: 650ms\tremaining: 2.6s\n",
      "1:\tlearn: 0.5221227\ttotal: 1.3s\tremaining: 1.96s\n",
      "2:\tlearn: 0.4627002\ttotal: 1.99s\tremaining: 1.33s\n",
      "3:\tlearn: 0.4157909\ttotal: 2.68s\tremaining: 670ms\n",
      "4:\tlearn: 0.3790721\ttotal: 3.38s\tremaining: 0us\n",
      "0:\tlearn: 0.5960806\ttotal: 635ms\tremaining: 2.54s\n",
      "1:\tlearn: 0.5199603\ttotal: 1.27s\tremaining: 1.9s\n",
      "2:\tlearn: 0.4609572\ttotal: 1.93s\tremaining: 1.29s\n",
      "3:\tlearn: 0.4158521\ttotal: 2.62s\tremaining: 655ms\n",
      "4:\tlearn: 0.3795526\ttotal: 3.28s\tremaining: 0us\n",
      "0:\tlearn: 0.5965773\ttotal: 639ms\tremaining: 2.55s\n",
      "1:\tlearn: 0.5193806\ttotal: 1.3s\tremaining: 1.96s\n",
      "2:\tlearn: 0.4611379\ttotal: 1.95s\tremaining: 1.3s\n",
      "3:\tlearn: 0.4155218\ttotal: 2.64s\tremaining: 659ms\n",
      "4:\tlearn: 0.3797375\ttotal: 3.32s\tremaining: 0us\n",
      "0:\tlearn: 0.5966021\ttotal: 618ms\tremaining: 2.47s\n",
      "1:\tlearn: 0.5187626\ttotal: 1.29s\tremaining: 1.93s\n",
      "2:\tlearn: 0.4615805\ttotal: 1.95s\tremaining: 1.3s\n",
      "3:\tlearn: 0.4159549\ttotal: 2.65s\tremaining: 661ms\n",
      "4:\tlearn: 0.3795658\ttotal: 3.35s\tremaining: 0us\n",
      "0:\tlearn: 0.5966703\ttotal: 622ms\tremaining: 2.49s\n",
      "1:\tlearn: 0.5208098\ttotal: 1.29s\tremaining: 1.94s\n",
      "2:\tlearn: 0.4605993\ttotal: 2s\tremaining: 1.33s\n",
      "3:\tlearn: 0.4150312\ttotal: 2.72s\tremaining: 681ms\n",
      "4:\tlearn: 0.3788820\ttotal: 3.47s\tremaining: 0us\n",
      "0:\tlearn: 0.3538915\ttotal: 630ms\tremaining: 2.52s\n",
      "1:\tlearn: 0.2731223\ttotal: 1.3s\tremaining: 1.96s\n",
      "2:\tlearn: 0.2463106\ttotal: 1.97s\tremaining: 1.31s\n",
      "3:\tlearn: 0.2354901\ttotal: 2.65s\tremaining: 664ms\n",
      "4:\tlearn: 0.2254594\ttotal: 3.38s\tremaining: 0us\n",
      "0:\tlearn: 0.3514379\ttotal: 637ms\tremaining: 2.55s\n",
      "1:\tlearn: 0.2736545\ttotal: 1.33s\tremaining: 1.99s\n",
      "2:\tlearn: 0.2493678\ttotal: 2.03s\tremaining: 1.35s\n",
      "3:\tlearn: 0.2337129\ttotal: 2.79s\tremaining: 696ms\n",
      "4:\tlearn: 0.2274302\ttotal: 3.46s\tremaining: 0us\n",
      "0:\tlearn: 0.3529090\ttotal: 661ms\tremaining: 2.64s\n",
      "1:\tlearn: 0.2747624\ttotal: 1.35s\tremaining: 2.03s\n",
      "2:\tlearn: 0.2476719\ttotal: 2.06s\tremaining: 1.38s\n",
      "3:\tlearn: 0.2331171\ttotal: 2.81s\tremaining: 703ms\n",
      "4:\tlearn: 0.2267391\ttotal: 3.49s\tremaining: 0us\n",
      "0:\tlearn: 0.3525761\ttotal: 614ms\tremaining: 2.46s\n",
      "1:\tlearn: 0.2742621\ttotal: 1.29s\tremaining: 1.94s\n",
      "2:\tlearn: 0.2467795\ttotal: 1.97s\tremaining: 1.31s\n",
      "3:\tlearn: 0.2327825\ttotal: 2.71s\tremaining: 677ms\n",
      "4:\tlearn: 0.2261008\ttotal: 3.38s\tremaining: 0us\n",
      "0:\tlearn: 0.3529741\ttotal: 605ms\tremaining: 2.42s\n",
      "1:\tlearn: 0.2727661\ttotal: 1.31s\tremaining: 1.97s\n",
      "2:\tlearn: 0.2467128\ttotal: 2.02s\tremaining: 1.34s\n",
      "3:\tlearn: 0.2322530\ttotal: 2.77s\tremaining: 693ms\n",
      "4:\tlearn: 0.2258792\ttotal: 3.48s\tremaining: 0us\n",
      "0:\tlearn: 0.3527855\ttotal: 810ms\tremaining: 3.24s\n",
      "1:\tlearn: 0.2730940\ttotal: 1.64s\tremaining: 2.46s\n",
      "2:\tlearn: 0.2488633\ttotal: 2.47s\tremaining: 1.65s\n",
      "3:\tlearn: 0.2369036\ttotal: 3.31s\tremaining: 828ms\n",
      "4:\tlearn: 0.2272671\ttotal: 4.21s\tremaining: 0us\n",
      "{'depth': 4, 'iterations': 5, 'learning_rate': 0.5}\n",
      "0.4795931152244636\n",
      "<catboost.core.CatBoostClassifier object at 0x7f1dbec2fca0>\n"
     ]
    }
   ],
   "source": [
    "catboost(bow_features_train,target_train) #, bow_features_test, target_test)"
   ]
  },
  {
   "cell_type": "markdown",
   "metadata": {},
   "source": [
    "### TF-IDF"
   ]
  },
  {
   "cell_type": "code",
   "execution_count": 23,
   "metadata": {},
   "outputs": [
    {
     "data": {
      "text/plain": [
       "(127433, 158266)"
      ]
     },
     "metadata": {},
     "output_type": "display_data"
    }
   ],
   "source": [
    "tfidf = TfidfVectorizer(stop_words=stopwords)\n",
    "\n",
    "tfidf_features_train = tfidf.fit_transform(features_train_corpus)\n",
    "tfidf_features_test = tfidf.transform(features_test_corpus)\n",
    "\n",
    "display(tfidf_features_train.shape)"
   ]
  },
  {
   "cell_type": "markdown",
   "metadata": {},
   "source": [
    "#### LogisticRegression"
   ]
  },
  {
   "cell_type": "code",
   "execution_count": 24,
   "metadata": {},
   "outputs": [
    {
     "name": "stdout",
     "output_type": "stream",
     "text": [
      "{'C': 1, 'penalty': 'l2', 'solver': 'liblinear'}\n",
      "0.7078651395715221\n",
      "LogisticRegression(C=1, random_state=123, solver='liblinear')\n"
     ]
    }
   ],
   "source": [
    "logreg(tfidf_features_train,target_train) #, tfidf_features_test, target_test)"
   ]
  },
  {
   "cell_type": "markdown",
   "metadata": {},
   "source": [
    "#### LGBM"
   ]
  },
  {
   "cell_type": "code",
   "execution_count": 25,
   "metadata": {},
   "outputs": [
    {
     "name": "stdout",
     "output_type": "stream",
     "text": [
      "{'learning_rate': 5, 'max_depth': 5, 'n_estimators': 5}\n",
      "0.2479167111661861\n",
      "LGBMClassifier(learning_rate=5, max_depth=5, n_estimators=5, random_state=123)\n"
     ]
    }
   ],
   "source": [
    "lgbm(tfidf_features_train,target_train) #, tfidf_features_test, target_test)"
   ]
  },
  {
   "cell_type": "markdown",
   "metadata": {},
   "source": [
    "#### CatBoost"
   ]
  },
  {
   "cell_type": "code",
   "execution_count": 26,
   "metadata": {},
   "outputs": [
    {
     "name": "stdout",
     "output_type": "stream",
     "text": [
      "0:\tlearn: 0.5992163\ttotal: 684ms\tremaining: 2.74s\n",
      "1:\tlearn: 0.5248309\ttotal: 1.35s\tremaining: 2.03s\n",
      "2:\tlearn: 0.4673447\ttotal: 1.99s\tremaining: 1.32s\n",
      "3:\tlearn: 0.4225759\ttotal: 2.61s\tremaining: 652ms\n",
      "4:\tlearn: 0.3881826\ttotal: 3.22s\tremaining: 0us\n",
      "0:\tlearn: 0.5965709\ttotal: 674ms\tremaining: 2.7s\n",
      "1:\tlearn: 0.5229974\ttotal: 1.28s\tremaining: 1.93s\n",
      "2:\tlearn: 0.4652857\ttotal: 1.92s\tremaining: 1.28s\n",
      "3:\tlearn: 0.4211665\ttotal: 2.53s\tremaining: 632ms\n",
      "4:\tlearn: 0.3871816\ttotal: 3.15s\tremaining: 0us\n",
      "0:\tlearn: 0.5969978\ttotal: 687ms\tremaining: 2.75s\n",
      "1:\tlearn: 0.5221054\ttotal: 1.32s\tremaining: 1.98s\n",
      "2:\tlearn: 0.4671122\ttotal: 1.97s\tremaining: 1.32s\n",
      "3:\tlearn: 0.4230679\ttotal: 2.62s\tremaining: 655ms\n",
      "4:\tlearn: 0.3910160\ttotal: 3.24s\tremaining: 0us\n",
      "0:\tlearn: 0.5972351\ttotal: 671ms\tremaining: 2.68s\n",
      "1:\tlearn: 0.5222859\ttotal: 1.31s\tremaining: 1.96s\n",
      "2:\tlearn: 0.4650203\ttotal: 1.93s\tremaining: 1.29s\n",
      "3:\tlearn: 0.4213213\ttotal: 2.55s\tremaining: 638ms\n",
      "4:\tlearn: 0.3870000\ttotal: 3.17s\tremaining: 0us\n",
      "0:\tlearn: 0.5963417\ttotal: 711ms\tremaining: 2.84s\n",
      "1:\tlearn: 0.5225152\ttotal: 1.36s\tremaining: 2.04s\n",
      "2:\tlearn: 0.4656347\ttotal: 2.01s\tremaining: 1.34s\n",
      "3:\tlearn: 0.4216093\ttotal: 2.65s\tremaining: 663ms\n",
      "4:\tlearn: 0.3881611\ttotal: 3.3s\tremaining: 0us\n",
      "0:\tlearn: 0.3606940\ttotal: 666ms\tremaining: 2.66s\n",
      "1:\tlearn: 0.2889780\ttotal: 1.32s\tremaining: 1.99s\n",
      "2:\tlearn: 0.2655389\ttotal: 1.97s\tremaining: 1.31s\n",
      "3:\tlearn: 0.2529263\ttotal: 2.66s\tremaining: 664ms\n",
      "4:\tlearn: 0.2447428\ttotal: 3.29s\tremaining: 0us\n",
      "0:\tlearn: 0.3533298\ttotal: 640ms\tremaining: 2.56s\n",
      "1:\tlearn: 0.2837245\ttotal: 1.28s\tremaining: 1.92s\n",
      "2:\tlearn: 0.2609112\ttotal: 1.91s\tremaining: 1.27s\n",
      "3:\tlearn: 0.2503398\ttotal: 2.53s\tremaining: 632ms\n",
      "4:\tlearn: 0.2428024\ttotal: 3.15s\tremaining: 0us\n",
      "0:\tlearn: 0.3549514\ttotal: 658ms\tremaining: 2.63s\n",
      "1:\tlearn: 0.2835201\ttotal: 1.31s\tremaining: 1.96s\n",
      "2:\tlearn: 0.2626168\ttotal: 1.95s\tremaining: 1.3s\n",
      "3:\tlearn: 0.2514536\ttotal: 2.57s\tremaining: 643ms\n",
      "4:\tlearn: 0.2456874\ttotal: 3.2s\tremaining: 0us\n",
      "0:\tlearn: 0.3554115\ttotal: 637ms\tremaining: 2.55s\n",
      "1:\tlearn: 0.2844898\ttotal: 1.24s\tremaining: 1.86s\n",
      "2:\tlearn: 0.2628168\ttotal: 1.86s\tremaining: 1.24s\n",
      "3:\tlearn: 0.2506151\ttotal: 2.53s\tremaining: 632ms\n",
      "4:\tlearn: 0.2429668\ttotal: 3.15s\tremaining: 0us\n",
      "0:\tlearn: 0.3527973\ttotal: 681ms\tremaining: 2.72s\n",
      "1:\tlearn: 0.2848224\ttotal: 1.32s\tremaining: 1.99s\n",
      "2:\tlearn: 0.2621156\ttotal: 1.97s\tremaining: 1.32s\n",
      "3:\tlearn: 0.2506464\ttotal: 2.64s\tremaining: 660ms\n",
      "4:\tlearn: 0.2427556\ttotal: 3.26s\tremaining: 0us\n",
      "0:\tlearn: 0.5992173\ttotal: 1.23s\tremaining: 4.92s\n",
      "1:\tlearn: 0.5239519\ttotal: 2.32s\tremaining: 3.48s\n",
      "2:\tlearn: 0.4624782\ttotal: 3.42s\tremaining: 2.28s\n",
      "3:\tlearn: 0.4156366\ttotal: 4.5s\tremaining: 1.12s\n",
      "4:\tlearn: 0.3796389\ttotal: 5.59s\tremaining: 0us\n",
      "0:\tlearn: 0.5940261\ttotal: 1.29s\tremaining: 5.15s\n",
      "1:\tlearn: 0.5177950\ttotal: 2.42s\tremaining: 3.62s\n",
      "2:\tlearn: 0.4586277\ttotal: 3.47s\tremaining: 2.31s\n",
      "3:\tlearn: 0.4135132\ttotal: 4.6s\tremaining: 1.15s\n",
      "4:\tlearn: 0.3770919\ttotal: 5.71s\tremaining: 0us\n",
      "0:\tlearn: 0.5938613\ttotal: 1.24s\tremaining: 4.96s\n",
      "1:\tlearn: 0.5200832\ttotal: 2.27s\tremaining: 3.4s\n",
      "2:\tlearn: 0.4606357\ttotal: 3.4s\tremaining: 2.27s\n",
      "3:\tlearn: 0.4129801\ttotal: 4.52s\tremaining: 1.13s\n",
      "4:\tlearn: 0.3765376\ttotal: 5.64s\tremaining: 0us\n",
      "0:\tlearn: 0.5972374\ttotal: 1.2s\tremaining: 4.78s\n",
      "1:\tlearn: 0.5218435\ttotal: 2.24s\tremaining: 3.37s\n",
      "2:\tlearn: 0.4610384\ttotal: 3.32s\tremaining: 2.22s\n",
      "3:\tlearn: 0.4159317\ttotal: 4.47s\tremaining: 1.12s\n",
      "4:\tlearn: 0.3792930\ttotal: 5.56s\tremaining: 0us\n",
      "0:\tlearn: 0.5942374\ttotal: 1.21s\tremaining: 4.84s\n",
      "1:\tlearn: 0.5178822\ttotal: 2.34s\tremaining: 3.52s\n",
      "2:\tlearn: 0.4581526\ttotal: 3.5s\tremaining: 2.33s\n",
      "3:\tlearn: 0.4124810\ttotal: 4.62s\tremaining: 1.16s\n",
      "4:\tlearn: 0.3761067\ttotal: 5.78s\tremaining: 0us\n",
      "0:\tlearn: 0.3606971\ttotal: 1.18s\tremaining: 4.72s\n",
      "1:\tlearn: 0.2780048\ttotal: 2.28s\tremaining: 3.42s\n",
      "2:\tlearn: 0.2508402\ttotal: 3.36s\tremaining: 2.24s\n",
      "3:\tlearn: 0.2390983\ttotal: 4.45s\tremaining: 1.11s\n",
      "4:\tlearn: 0.2275023\ttotal: 5.59s\tremaining: 0us\n",
      "0:\tlearn: 0.3455505\ttotal: 1.25s\tremaining: 5.01s\n",
      "1:\tlearn: 0.2675338\ttotal: 2.36s\tremaining: 3.54s\n",
      "2:\tlearn: 0.2447063\ttotal: 3.5s\tremaining: 2.33s\n",
      "3:\tlearn: 0.2332222\ttotal: 4.63s\tremaining: 1.16s\n",
      "4:\tlearn: 0.2232436\ttotal: 5.91s\tremaining: 0us\n",
      "0:\tlearn: 0.3455166\ttotal: 1.21s\tremaining: 4.84s\n",
      "1:\tlearn: 0.2702655\ttotal: 2.33s\tremaining: 3.5s\n",
      "2:\tlearn: 0.2445188\ttotal: 3.46s\tremaining: 2.31s\n",
      "3:\tlearn: 0.2313924\ttotal: 4.62s\tremaining: 1.16s\n",
      "4:\tlearn: 0.2240699\ttotal: 5.71s\tremaining: 0us\n",
      "0:\tlearn: 0.3554181\ttotal: 1.14s\tremaining: 4.55s\n",
      "1:\tlearn: 0.2742635\ttotal: 2.22s\tremaining: 3.33s\n",
      "2:\tlearn: 0.2466656\ttotal: 3.3s\tremaining: 2.2s\n",
      "3:\tlearn: 0.2353251\ttotal: 4.37s\tremaining: 1.09s\n",
      "4:\tlearn: 0.2278902\ttotal: 5.42s\tremaining: 0us\n",
      "0:\tlearn: 0.3463395\ttotal: 1.24s\tremaining: 4.96s\n",
      "1:\tlearn: 0.2684216\ttotal: 2.37s\tremaining: 3.55s\n",
      "2:\tlearn: 0.2434975\ttotal: 3.45s\tremaining: 2.3s\n",
      "3:\tlearn: 0.2295045\ttotal: 4.55s\tremaining: 1.14s\n",
      "4:\tlearn: 0.2225410\ttotal: 5.64s\tremaining: 0us\n",
      "0:\tlearn: 0.3544520\ttotal: 1.45s\tremaining: 5.8s\n",
      "1:\tlearn: 0.2719893\ttotal: 2.82s\tremaining: 4.23s\n",
      "2:\tlearn: 0.2458503\ttotal: 4.14s\tremaining: 2.76s\n",
      "3:\tlearn: 0.2346090\ttotal: 5.46s\tremaining: 1.36s\n",
      "4:\tlearn: 0.2246519\ttotal: 6.82s\tremaining: 0us\n",
      "{'depth': 4, 'iterations': 5, 'learning_rate': 0.5}\n",
      "0.5169331115645842\n",
      "<catboost.core.CatBoostClassifier object at 0x7f1dae8a13a0>\n"
     ]
    }
   ],
   "source": [
    "catboost(tfidf_features_train,target_train) #, tfidf_features_test, target_test)"
   ]
  },
  {
   "cell_type": "markdown",
   "metadata": {},
   "source": [
    "### Тестирование"
   ]
  },
  {
   "cell_type": "code",
   "execution_count": 36,
   "metadata": {},
   "outputs": [
    {
     "name": "stdout",
     "output_type": "stream",
     "text": [
      "{'C': 1, 'penalty': 'l2', 'solver': 'lbfgs'}\n",
      "0.7520322280505028\n",
      "LogisticRegression(C=1, random_state=123)\n",
      "Test F1 score (LogisticRegression): 0.7567380787836903\n"
     ]
    }
   ],
   "source": [
    "#model_logistic = LogisticRegression(C=1.0, penalty=\"l2\", solver= 'lbfgs', random_state = 123)\n",
    "#model_Logistic.fit(bow_features_train,target_train)\n",
    "\n",
    "#test_f1_score = f1_score(target_test, model_logistic.predict(bow_features_test))\n",
    "\n",
    "#f1_score_test = logreg(bow_features_test,target_test)\n",
    "\n",
    "#f1_score_test = f1_score(target_test, .predict(bow_features_test))\n",
    "\n",
    "best_estimator = logreg(bow_features_train,target_train)\n",
    "\n",
    "target_predicted = best_estimator.predict(bow_features_test)\n",
    "\n",
    "f1 = f1_score(target_test, target_predicted)\n",
    "\n",
    "print(\"Test F1 score (LogisticRegression):\", f1)"
   ]
  },
  {
   "cell_type": "markdown",
   "metadata": {},
   "source": [
    "## Выводы"
   ]
  },
  {
   "cell_type": "markdown",
   "metadata": {},
   "source": [
    "- Выполнена загрузка представленных текстовых данных и необходимых библиотек, загружены стоп-слова для соотвесвтующего языка (Английского)\n",
    "- Проведена предобработка и анализ данных, текст лемматизирован, очищен от лишних символов и пробелов\n",
    "- С помощью двух различных методов (векторизация и TF_IDF), подготовлены признаки для машинного обучения\n",
    "- Обучены три различные модели (LogisticRegression, LGBM и CatBoost) для различных методов препроцессинга\n",
    "- Наилучшее значение F1 показала модель LogisticRegression на CountVectoriser, это соотвествует критериям, указанных в условии задачи\n",
    "- BERT не был использован из-за ограниченности вычислительной мощности"
   ]
  },
  {
   "cell_type": "code",
   "execution_count": null,
   "metadata": {},
   "outputs": [],
   "source": []
  }
 ],
 "metadata": {
  "ExecuteTimeLog": [
   {
    "duration": 45,
    "start_time": "2023-07-09T08:33:48.429Z"
   },
   {
    "duration": 2804,
    "start_time": "2023-07-09T08:34:05.370Z"
   },
   {
    "duration": 2256,
    "start_time": "2023-07-09T08:34:08.179Z"
   },
   {
    "duration": 2,
    "start_time": "2023-07-09T08:34:10.436Z"
   },
   {
    "duration": 172,
    "start_time": "2023-07-09T08:34:10.440Z"
   },
   {
    "duration": 2857,
    "start_time": "2023-07-09T08:34:14.630Z"
   },
   {
    "duration": 6,
    "start_time": "2023-07-09T08:34:17.496Z"
   },
   {
    "duration": 34,
    "start_time": "2023-07-09T08:34:21.293Z"
   },
   {
    "duration": 24,
    "start_time": "2023-07-09T08:34:21.509Z"
   },
   {
    "duration": 8,
    "start_time": "2023-07-09T08:34:26.398Z"
   },
   {
    "duration": 4,
    "start_time": "2023-07-09T08:46:41.310Z"
   },
   {
    "duration": 57,
    "start_time": "2023-07-09T08:46:42.093Z"
   },
   {
    "duration": 2,
    "start_time": "2023-07-09T08:46:42.429Z"
   },
   {
    "duration": 5,
    "start_time": "2023-07-09T08:46:42.650Z"
   },
   {
    "duration": 898,
    "start_time": "2023-07-09T08:46:42.849Z"
   },
   {
    "duration": 41,
    "start_time": "2023-07-09T08:46:43.749Z"
   },
   {
    "duration": 22,
    "start_time": "2023-07-09T08:46:43.793Z"
   },
   {
    "duration": 8,
    "start_time": "2023-07-09T08:46:43.818Z"
   },
   {
    "duration": 20,
    "start_time": "2023-07-09T08:46:43.827Z"
   },
   {
    "duration": 97057,
    "start_time": "2023-07-09T08:46:43.849Z"
   },
   {
    "duration": 5,
    "start_time": "2023-07-09T08:48:20.908Z"
   },
   {
    "duration": 558763,
    "start_time": "2023-07-09T08:48:20.914Z"
   },
   {
    "duration": 9,
    "start_time": "2023-07-09T08:57:39.679Z"
   },
   {
    "duration": 42,
    "start_time": "2023-07-09T08:57:39.690Z"
   },
   {
    "duration": 7,
    "start_time": "2023-07-09T08:57:39.733Z"
   },
   {
    "duration": 7612,
    "start_time": "2023-07-09T08:57:39.741Z"
   },
   {
    "duration": 3,
    "start_time": "2023-07-09T08:57:47.355Z"
   },
   {
    "duration": 1213558,
    "start_time": "2023-07-09T08:57:47.360Z"
   },
   {
    "duration": 4,
    "start_time": "2023-07-09T09:18:00.920Z"
   },
   {
    "duration": 2405,
    "start_time": "2023-07-09T10:21:34.852Z"
   },
   {
    "duration": 327,
    "start_time": "2023-07-09T10:21:37.259Z"
   },
   {
    "duration": 6,
    "start_time": "2023-07-09T10:21:37.591Z"
   },
   {
    "duration": 43,
    "start_time": "2023-07-09T10:21:37.599Z"
   },
   {
    "duration": 941,
    "start_time": "2023-07-09T10:21:37.644Z"
   },
   {
    "duration": 30,
    "start_time": "2023-07-09T10:21:38.587Z"
   },
   {
    "duration": 20,
    "start_time": "2023-07-09T10:21:38.618Z"
   },
   {
    "duration": 6,
    "start_time": "2023-07-09T10:21:38.639Z"
   },
   {
    "duration": 4,
    "start_time": "2023-07-09T10:21:38.647Z"
   },
   {
    "duration": 97549,
    "start_time": "2023-07-09T10:21:38.653Z"
   },
   {
    "duration": 5,
    "start_time": "2023-07-09T10:23:16.204Z"
   },
   {
    "duration": 590581,
    "start_time": "2023-07-09T10:23:16.210Z"
   },
   {
    "duration": 10,
    "start_time": "2023-07-09T10:33:06.794Z"
   },
   {
    "duration": 56,
    "start_time": "2023-07-09T10:33:06.808Z"
   },
   {
    "duration": 6,
    "start_time": "2023-07-09T10:33:06.866Z"
   },
   {
    "duration": 7622,
    "start_time": "2023-07-09T10:33:06.873Z"
   },
   {
    "duration": 5,
    "start_time": "2023-07-09T10:33:14.496Z"
   },
   {
    "duration": 1154316,
    "start_time": "2023-07-09T10:33:14.503Z"
   },
   {
    "duration": 4,
    "start_time": "2023-07-09T10:52:28.821Z"
   },
   {
    "duration": 2343776,
    "start_time": "2023-07-09T10:52:28.827Z"
   },
   {
    "duration": 4,
    "start_time": "2023-07-09T11:31:32.607Z"
   },
   {
    "duration": 675840,
    "start_time": "2023-07-09T11:31:32.613Z"
   },
   {
    "duration": 7452,
    "start_time": "2023-07-09T11:42:48.454Z"
   },
   {
    "duration": 392542,
    "start_time": "2023-07-09T11:42:55.908Z"
   },
   {
    "duration": 2630361,
    "start_time": "2023-07-09T11:49:28.452Z"
   },
   {
    "duration": 736179,
    "start_time": "2023-07-09T12:33:18.816Z"
   },
   {
    "duration": 47986,
    "start_time": "2023-07-09T12:45:34.996Z"
   },
   {
    "duration": 2935,
    "start_time": "2023-07-11T05:27:32.256Z"
   },
   {
    "duration": 2339,
    "start_time": "2023-07-11T05:27:35.193Z"
   },
   {
    "duration": 3,
    "start_time": "2023-07-11T05:27:37.534Z"
   },
   {
    "duration": 262,
    "start_time": "2023-07-11T05:27:37.540Z"
   },
   {
    "duration": 2482,
    "start_time": "2023-07-11T05:27:37.804Z"
   },
   {
    "duration": 37,
    "start_time": "2023-07-11T05:27:40.288Z"
   },
   {
    "duration": 36,
    "start_time": "2023-07-11T05:27:40.327Z"
   },
   {
    "duration": 9,
    "start_time": "2023-07-11T05:27:40.365Z"
   },
   {
    "duration": 4,
    "start_time": "2023-07-11T05:27:45.468Z"
   },
   {
    "duration": 99567,
    "start_time": "2023-07-11T05:27:45.747Z"
   },
   {
    "duration": 6,
    "start_time": "2023-07-11T05:29:25.316Z"
   },
   {
    "duration": 676208,
    "start_time": "2023-07-11T05:29:25.323Z"
   },
   {
    "duration": 13,
    "start_time": "2023-07-11T05:40:41.534Z"
   },
   {
    "duration": 158,
    "start_time": "2023-07-11T06:17:23.371Z"
   },
   {
    "duration": 15,
    "start_time": "2023-07-11T06:17:36.065Z"
   },
   {
    "duration": 13,
    "start_time": "2023-07-11T06:17:45.203Z"
   },
   {
    "duration": 42,
    "start_time": "2023-07-11T06:17:46.929Z"
   },
   {
    "duration": 8,
    "start_time": "2023-07-11T06:17:47.994Z"
   },
   {
    "duration": 9234,
    "start_time": "2023-07-11T06:17:49.097Z"
   },
   {
    "duration": 4,
    "start_time": "2023-07-11T06:17:58.335Z"
   },
   {
    "duration": 1269100,
    "start_time": "2023-07-11T06:17:58.341Z"
   },
   {
    "duration": 5,
    "start_time": "2023-07-11T06:39:07.443Z"
   },
   {
    "duration": 9,
    "start_time": "2023-07-11T10:41:35.203Z"
   },
   {
    "duration": 5,
    "start_time": "2023-07-11T10:44:20.495Z"
   },
   {
    "duration": 6,
    "start_time": "2023-07-11T10:44:43.063Z"
   },
   {
    "duration": 58,
    "start_time": "2023-07-11T10:44:44.360Z"
   },
   {
    "duration": 5,
    "start_time": "2023-07-11T10:45:09.215Z"
   },
   {
    "duration": 8,
    "start_time": "2023-07-11T10:45:11.969Z"
   },
   {
    "duration": 2559,
    "start_time": "2023-07-11T10:49:45.263Z"
   },
   {
    "duration": 2718,
    "start_time": "2023-07-11T10:49:47.825Z"
   },
   {
    "duration": 4,
    "start_time": "2023-07-11T10:49:50.546Z"
   },
   {
    "duration": 82,
    "start_time": "2023-07-11T10:49:50.552Z"
   },
   {
    "duration": 2611,
    "start_time": "2023-07-11T10:49:50.638Z"
   },
   {
    "duration": 43,
    "start_time": "2023-07-11T10:49:53.251Z"
   },
   {
    "duration": 26,
    "start_time": "2023-07-11T10:49:53.295Z"
   },
   {
    "duration": 11,
    "start_time": "2023-07-11T10:49:53.323Z"
   },
   {
    "duration": 12,
    "start_time": "2023-07-11T10:49:53.336Z"
   },
   {
    "duration": 105310,
    "start_time": "2023-07-11T10:49:53.352Z"
   },
   {
    "duration": 6,
    "start_time": "2023-07-11T10:51:38.665Z"
   },
   {
    "duration": 639340,
    "start_time": "2023-07-11T10:51:38.674Z"
   },
   {
    "duration": 12,
    "start_time": "2023-07-11T11:02:18.016Z"
   },
   {
    "duration": 66,
    "start_time": "2023-07-11T11:02:18.033Z"
   },
   {
    "duration": 8,
    "start_time": "2023-07-11T11:02:18.102Z"
   },
   {
    "duration": 8183,
    "start_time": "2023-07-11T11:02:18.112Z"
   },
   {
    "duration": 5,
    "start_time": "2023-07-11T11:02:26.297Z"
   },
   {
    "duration": 180,
    "start_time": "2023-07-11T11:02:26.304Z"
   },
   {
    "duration": 0,
    "start_time": "2023-07-11T11:02:26.486Z"
   },
   {
    "duration": 0,
    "start_time": "2023-07-11T11:02:26.487Z"
   },
   {
    "duration": 0,
    "start_time": "2023-07-11T11:02:26.489Z"
   },
   {
    "duration": 0,
    "start_time": "2023-07-11T11:02:26.502Z"
   },
   {
    "duration": 0,
    "start_time": "2023-07-11T11:02:26.503Z"
   },
   {
    "duration": 0,
    "start_time": "2023-07-11T11:02:26.504Z"
   },
   {
    "duration": 0,
    "start_time": "2023-07-11T11:02:26.505Z"
   },
   {
    "duration": 0,
    "start_time": "2023-07-11T11:02:26.507Z"
   },
   {
    "duration": 0,
    "start_time": "2023-07-11T11:02:26.508Z"
   },
   {
    "duration": 1237045,
    "start_time": "2023-07-11T11:27:25.166Z"
   },
   {
    "duration": 4,
    "start_time": "2023-07-11T11:56:31.036Z"
   },
   {
    "duration": 19,
    "start_time": "2023-07-11T11:56:32.037Z"
   },
   {
    "duration": 5,
    "start_time": "2023-07-11T11:57:34.155Z"
   },
   {
    "duration": 5,
    "start_time": "2023-07-11T11:57:40.287Z"
   },
   {
    "duration": 3786,
    "start_time": "2023-07-11T16:29:49.788Z"
   },
   {
    "duration": 1411,
    "start_time": "2023-07-11T16:29:53.577Z"
   },
   {
    "duration": 3,
    "start_time": "2023-07-11T16:29:54.990Z"
   },
   {
    "duration": 182,
    "start_time": "2023-07-11T16:29:54.994Z"
   },
   {
    "duration": 2980,
    "start_time": "2023-07-11T16:29:55.179Z"
   },
   {
    "duration": 40,
    "start_time": "2023-07-11T16:29:58.161Z"
   },
   {
    "duration": 45,
    "start_time": "2023-07-11T16:29:58.203Z"
   },
   {
    "duration": 9,
    "start_time": "2023-07-11T16:29:58.250Z"
   },
   {
    "duration": 72,
    "start_time": "2023-07-11T16:29:58.260Z"
   },
   {
    "duration": 106960,
    "start_time": "2023-07-11T16:29:58.334Z"
   },
   {
    "duration": 13,
    "start_time": "2023-07-11T16:31:45.296Z"
   },
   {
    "duration": 662023,
    "start_time": "2023-07-11T16:31:45.311Z"
   },
   {
    "duration": 10,
    "start_time": "2023-07-11T16:42:47.336Z"
   },
   {
    "duration": 52,
    "start_time": "2023-07-11T16:42:47.350Z"
   },
   {
    "duration": 9,
    "start_time": "2023-07-11T16:42:47.404Z"
   },
   {
    "duration": 8463,
    "start_time": "2023-07-11T16:42:47.415Z"
   },
   {
    "duration": 6,
    "start_time": "2023-07-11T16:42:55.880Z"
   },
   {
    "duration": 84,
    "start_time": "2023-07-12T05:48:08.338Z"
   },
   {
    "duration": 46,
    "start_time": "2023-07-12T06:37:39.161Z"
   },
   {
    "duration": 2373,
    "start_time": "2023-07-12T06:37:45.577Z"
   },
   {
    "duration": 3450,
    "start_time": "2023-07-12T06:37:47.952Z"
   },
   {
    "duration": 2,
    "start_time": "2023-07-12T06:37:51.404Z"
   },
   {
    "duration": 45,
    "start_time": "2023-07-12T06:37:51.408Z"
   },
   {
    "duration": 3402,
    "start_time": "2023-07-12T06:37:51.455Z"
   },
   {
    "duration": 36,
    "start_time": "2023-07-12T06:37:54.860Z"
   },
   {
    "duration": 24,
    "start_time": "2023-07-12T06:37:54.898Z"
   },
   {
    "duration": 9,
    "start_time": "2023-07-12T06:37:54.924Z"
   },
   {
    "duration": 4,
    "start_time": "2023-07-12T06:37:54.960Z"
   },
   {
    "duration": 91001,
    "start_time": "2023-07-12T06:37:54.966Z"
   },
   {
    "duration": 5,
    "start_time": "2023-07-12T06:39:25.969Z"
   },
   {
    "duration": 579975,
    "start_time": "2023-07-12T06:39:25.976Z"
   },
   {
    "duration": 10,
    "start_time": "2023-07-12T06:49:05.959Z"
   },
   {
    "duration": 44,
    "start_time": "2023-07-12T06:49:05.973Z"
   },
   {
    "duration": 6,
    "start_time": "2023-07-12T06:49:06.019Z"
   },
   {
    "duration": 7221,
    "start_time": "2023-07-12T06:49:06.027Z"
   },
   {
    "duration": 4,
    "start_time": "2023-07-12T06:49:13.250Z"
   },
   {
    "duration": 1178519,
    "start_time": "2023-07-12T06:49:13.259Z"
   },
   {
    "duration": 6,
    "start_time": "2023-07-12T07:08:51.862Z"
   },
   {
    "duration": 5243652,
    "start_time": "2023-07-12T07:08:51.872Z"
   },
   {
    "duration": 4,
    "start_time": "2023-07-12T08:36:15.528Z"
   },
   {
    "duration": 737055,
    "start_time": "2023-07-12T08:36:15.533Z"
   },
   {
    "duration": 7717,
    "start_time": "2023-07-12T08:48:32.590Z"
   },
   {
    "duration": 353275,
    "start_time": "2023-07-12T08:48:40.309Z"
   },
   {
    "duration": 1841709,
    "start_time": "2023-07-12T08:54:33.586Z"
   },
   {
    "duration": 808828,
    "start_time": "2023-07-12T09:25:15.300Z"
   },
   {
    "duration": 165,
    "start_time": "2023-07-12T09:38:44.131Z"
   },
   {
    "duration": 68,
    "start_time": "2023-07-12T09:42:34.269Z"
   },
   {
    "duration": 10,
    "start_time": "2023-07-12T09:42:52.271Z"
   },
   {
    "duration": 4,
    "start_time": "2023-07-12T10:00:51.110Z"
   },
   {
    "duration": 429,
    "start_time": "2023-07-12T10:05:32.590Z"
   },
   {
    "duration": 16,
    "start_time": "2023-07-12T10:07:40.604Z"
   },
   {
    "duration": 18,
    "start_time": "2023-07-12T10:07:43.017Z"
   },
   {
    "duration": 0,
    "start_time": "2023-07-12T10:44:29.172Z"
   },
   {
    "duration": 1187170,
    "start_time": "2023-07-12T10:47:11.002Z"
   },
   {
    "duration": 1190298,
    "start_time": "2023-07-12T11:14:46.962Z"
   },
   {
    "duration": 65,
    "start_time": "2023-07-12T11:45:40.295Z"
   }
  ],
  "kernelspec": {
   "display_name": "Python 3 (ipykernel)",
   "language": "python",
   "name": "python3"
  },
  "language_info": {
   "codemirror_mode": {
    "name": "ipython",
    "version": 3
   },
   "file_extension": ".py",
   "mimetype": "text/x-python",
   "name": "python",
   "nbconvert_exporter": "python",
   "pygments_lexer": "ipython3",
   "version": "3.9.5"
  },
  "toc": {
   "base_numbering": 1,
   "nav_menu": {},
   "number_sections": true,
   "sideBar": true,
   "skip_h1_title": true,
   "title_cell": "Содержание",
   "title_sidebar": "Contents",
   "toc_cell": true,
   "toc_position": {
    "height": "calc(100% - 180px)",
    "left": "10px",
    "top": "150px",
    "width": "208.042px"
   },
   "toc_section_display": true,
   "toc_window_display": true
  }
 },
 "nbformat": 4,
 "nbformat_minor": 4
}
